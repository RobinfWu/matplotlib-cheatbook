{
 "cells": [
  {
   "cell_type": "markdown",
   "metadata": {},
   "source": [
    "# Tip Font Family"
   ]
  },
  {
   "cell_type": "code",
   "execution_count": 1,
   "metadata": {},
   "outputs": [
    {
     "data": {
      "image/png": "[encoded data removed]",
      "text/plain": [
       "<Figure size 864x72 with 1 Axes>"
      ]
     },
     "metadata": {
      "needs_background": "light"
     },
     "output_type": "display_data"
    }
   ],
   "source": [
    "# ----------------------------------------------------------------------------\n",
    "# Title:   Scientific Visualisation - Python & Matplotlib\n",
    "# Author:  Nicolas P. Rougier\n",
    "# License: BSD\n",
    "# ----------------------------------------------------------------------------\n",
    "import numpy as np\n",
    "import matplotlib.pyplot as plt\n",
    "import matplotlib.ticker as ticker\n",
    "\n",
    "# Setup a plot such that only the bottom spine is shown\n",
    "def setup(ax):\n",
    "    ax.spines['right'].set_color('none')\n",
    "    ax.spines['left'].set_color('none')\n",
    "    ax.yaxis.set_major_locator(ticker.NullLocator())\n",
    "    ax.spines['top'].set_color('none')\n",
    "\n",
    "    ax.spines['bottom'].set_position(\"center\")\n",
    "    \n",
    "    ax.xaxis.set_ticks_position('bottom')\n",
    "    ax.tick_params(which='major', width=1.00)\n",
    "    ax.tick_params(which='major', length=5)\n",
    "    ax.tick_params(which='minor', width=0.75)\n",
    "    ax.tick_params(which='minor', length=2.5)\n",
    "    ax.set_xlim(0, 5)\n",
    "    ax.set_ylim(0, 1)\n",
    "    ax.patch.set_alpha(0.0)\n",
    "\n",
    "\n",
    "fig = plt.figure(figsize=(12, 1))\n",
    "fig.patch.set_alpha(0.0)\n",
    "n = 1\n",
    "\n",
    "fontsize = 18\n",
    "ax = plt.subplot(n, 1, 1)\n",
    "ax.tick_params(axis='both', which='minor', labelsize=8)\n",
    "setup(ax)\n",
    "ax.xaxis.set_major_locator(ticker.MultipleLocator(1.0))\n",
    "ax.xaxis.set_minor_locator(ticker.MultipleLocator(0.2))\n",
    "ax.xaxis.set_major_formatter(ticker.ScalarFormatter())\n",
    "ax.xaxis.set_minor_formatter(ticker.ScalarFormatter())\n",
    "ax.tick_params(axis='x', which='minor', rotation=0)\n",
    "\n",
    "for tick in ax.get_xticklabels(which='both'):\n",
    "    tick.set_fontname(\"DejaVu Sans\")\n",
    "    \n",
    "plt.tight_layout()\n",
    "# plt.savefig(\"../figures/tip-font-family.pdf\", transparent=True)\n",
    "plt.show()"
   ]
  },
  {
   "cell_type": "code",
   "execution_count": null,
   "metadata": {},
   "outputs": [],
   "source": []
  }
 ],
 "metadata": {
  "kernelspec": {
   "display_name": "Python 3",
   "language": "python",
   "name": "python3"
  },
  "language_info": {
   "codemirror_mode": {
    "name": "ipython",
    "version": 3
   },
   "file_extension": ".py",
   "mimetype": "text/x-python",
   "name": "python",
   "nbconvert_exporter": "python",
   "pygments_lexer": "ipython3",
   "version": "3.6.5"
  }
 },
 "nbformat": 4,
 "nbformat_minor": 2
}
