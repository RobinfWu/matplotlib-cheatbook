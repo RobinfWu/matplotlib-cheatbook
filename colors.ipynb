{
 "cells": [
  {
   "cell_type": "markdown",
   "metadata": {
    "colab_type": "text",
    "id": "mw2VBrBcgvGa"
   },
   "source": [
    "# colors"
   ]
  },
  {
   "cell_type": "code",
   "execution_count": 1,
   "metadata": {},
   "outputs": [],
   "source": [
    "# -----------------------------------------------------------------------------\n",
    "# Matplotlib cheat book\n",
    "# Released under the BSD License\n",
    "# -----------------------------------------------------------------------------\n",
    "import numpy as np\n",
    "import matplotlib as mpl\n",
    "import matplotlib.pyplot as plt\n",
    "%matplotlib inline"
   ]
  },
  {
   "cell_type": "code",
   "execution_count": 2,
   "metadata": {
    "colab": {},
    "colab_type": "code",
    "id": "PUNO2E6SeURH"
   },
   "outputs": [
    {
     "data": {
      "image/png": "[encoded data removed]",
      "text/plain": [
       "<Figure size 1200x75 with 1 Axes>"
      ]
     },
     "metadata": {},
     "output_type": "display_data"
    }
   ],
   "source": [
    "figsize = 12.0, 0.75\n",
    "fig = plt.figure(figsize=figsize)\n",
    "ax = fig.add_axes([0, 0, 1, 1], frameon=False, aspect=1)\n",
    "ymin, ymax=  0, 1\n",
    "xmin, xmax = 0, figsize[0]/figsize[1]\n",
    "ax.set_xlim(xmin, xmax), ax.set_xticks([])\n",
    "ax.set_ylim(ymin, ymax), ax.set_yticks([])\n",
    "\n",
    "# Uniform colormaps\n",
    "# -----------------------------------------------------------------------------\n",
    "palettes = {\n",
    "    'raw' : ['b', 'g', 'r', 'c', 'm', 'y', 'k', 'w'],\n",
    "    'rgba' : [(1, 0, 0), (1, 0, 0, 0.75), (1, 0, 0, 0.50), (1, 0, 0, 0.25)],\n",
    "    'HexRGBA' : [\"#FF0000\", \"#FF0000BB\", \"#FF000088\", \"#FF000044\"],\n",
    "    'cycle' : [\"C%d\" % i for i in range(10)],\n",
    "    'grey' : [\"%1.1f\" % (i/10) for i in range(11)],\n",
    "    'name' : [\"DarkRed\", \"Firebrick\", \"Crimson\", \"IndianRed\", \"Salmon\" ] }\n",
    "\n",
    "for name, colors in palettes.items():\n",
    "    C = mpl.colors.to_rgba_array(colors).reshape((1, len(colors), 4))\n",
    "    ax.imshow(C, extent=[xmin, xmax, ymin, ymax])\n",
    "\n",
    "    # Drop alpha by assuming we're on a white background PDF.\n",
    "    alpha = C[0, :, 3]\n",
    "    rgb = C[0, :, :3] * alpha[:, np.newaxis] + (1 - alpha[:, np.newaxis])\n",
    "    # Same calculation for luminance as\n",
    "    # https://matplotlib.org/stable/users/explain/colors/colors.html#comparison-between-x11-css4-and-xkcd-colors\n",
    "    luma = 0.299 * rgb[:, 0] + 0.587 * rgb[:, 1] + 0.114 * rgb[:, 2]\n",
    "\n",
    "    dx = (xmax-xmin)/len(colors)\n",
    "    for i in range(len(colors)):\n",
    "        text_color = \"black\" if luma[i] > 0.5 else \"white\"\n",
    "        text = str(colors[i]).replace(' ', '')\n",
    "        ax.text((i+0.5)*dx, (ymin+ymax)/2, text, color=text_color, zorder=10,\n",
    "                family=\"DejaVu Sans\", size=9, ha=\"center\", va=\"center\")\n",
    "\n",
    "    # fig.savefig(ROOT_DIR / f\"figures/colors-{name}.pdf\")\n",
    "    plt.show()\n",
    "    ax.clear()"
   ]
  },
  {
   "cell_type": "code",
   "execution_count": null,
   "metadata": {},
   "outputs": [],
   "source": []
  }
 ],
 "metadata": {
  "coursera": {
   "course_slug": "introduction-tensorflow",
   "graded_item_id": "jRjw8",
   "launcher_item_id": "YoQKl"
  },
  "kernelspec": {
   "display_name": "Python 3 (ipykernel)",
   "language": "python",
   "name": "python3"
  },
  "language_info": {
   "codemirror_mode": {
    "name": "ipython",
    "version": 3
   },
   "file_extension": ".py",
   "mimetype": "text/x-python",
   "name": "python",
   "nbconvert_exporter": "python",
   "pygments_lexer": "ipython3",
   "version": "3.10.11"
  }
 },
 "nbformat": 4,
 "nbformat_minor": 4
}
