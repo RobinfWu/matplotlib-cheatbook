{
 "cells": [
  {
   "cell_type": "markdown",
   "metadata": {},
   "source": [
    "# Tip Hatched"
   ]
  },
  {
   "cell_type": "code",
   "execution_count": 1,
   "metadata": {},
   "outputs": [
    {
     "data": {
      "image/png": "[encoded data removed]",
      "text/plain": [
       "<Figure size 576x576 with 1 Axes>"
      ]
     },
     "metadata": {
      "needs_background": "light"
     },
     "output_type": "display_data"
    }
   ],
   "source": [
    "import numpy as np\n",
    "import matplotlib.pyplot as plt\n",
    "\n",
    "cmap = plt.get_cmap(\"Oranges\")\n",
    "color1, color2 = cmap(0.3), cmap(0.5)\n",
    "\n",
    "plt.rcParams['hatch.color'] = color1\n",
    "plt.rcParams['hatch.linewidth'] = 8\n",
    "\n",
    "fig = plt.figure(figsize=(8,8))\n",
    "ax = plt.subplot()\n",
    "np.random.seed(123)\n",
    "\n",
    "x1,y1 = 3*np.arange(2), np.random.randint(25,50,2)\n",
    "x2,y2 = x1+1,           np.random.randint(25,75,2)\n",
    "\n",
    "ax.bar(x1, y1, color=color2)\n",
    "for i in range(len(x1)):\n",
    "    plt.annotate(\"%d%%\" % y1[i],  (x1[i], y1[i]), xytext=(0,1),\n",
    "                 fontsize=\"large\", color=color2,\n",
    "                 textcoords=\"offset points\", va=\"bottom\", ha=\"center\")\n",
    "\n",
    "ax.bar(x2, y2, color=color2, hatch=\"/\" )\n",
    "for i in range(len(x2)):\n",
    "    plt.annotate(\"%d%%\" % y2[i],  (x2[i], y2[i]), xytext=(0,1),\n",
    "                 fontsize=\"large\", color=color2,\n",
    "                 textcoords=\"offset points\", va=\"bottom\", ha=\"center\")\n",
    "    \n",
    "ax.set_yticks([])\n",
    "ax.set_xticks(0.5+np.arange(0,6,3))\n",
    "ax.set_xticklabels([\"2018\", \"2019\"])\n",
    "ax.tick_params('x', length=0, labelsize=\"large\", which='major')\n",
    "\n",
    "ax.spines['right'].set_visible(False)\n",
    "ax.spines['left'].set_visible(False)\n",
    "ax.spines['top'].set_visible(False)\n",
    "\n",
    "plt.tight_layout()\n",
    "# plt.savefig(\"../figures/tip-hatched.pdf\")\n",
    "plt.show()"
   ]
  },
  {
   "cell_type": "code",
   "execution_count": null,
   "metadata": {},
   "outputs": [],
   "source": []
  }
 ],
 "metadata": {
  "kernelspec": {
   "display_name": "Python 3",
   "language": "python",
   "name": "python3"
  },
  "language_info": {
   "codemirror_mode": {
    "name": "ipython",
    "version": 3
   },
   "file_extension": ".py",
   "mimetype": "text/x-python",
   "name": "python",
   "nbconvert_exporter": "python",
   "pygments_lexer": "ipython3",
   "version": "3.6.5"
  }
 },
 "nbformat": 4,
 "nbformat_minor": 2
}
