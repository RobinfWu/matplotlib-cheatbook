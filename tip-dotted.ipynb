{
 "cells": [
  {
   "cell_type": "markdown",
   "metadata": {},
   "source": [
    "# Tip Dotted"
   ]
  },
  {
   "cell_type": "code",
   "execution_count": 1,
   "metadata": {},
   "outputs": [
    {
     "data": {
      "image/png": "[encoded data removed]",
      "text/plain": [
       "<Figure size 720x36 with 1 Axes>"
      ]
     },
     "metadata": {},
     "output_type": "display_data"
    }
   ],
   "source": [
    "# -----------------------------------------------------------------------------\n",
    "# Matplotlib cheat book\n",
    "# Released under the BSD License\n",
    "# -----------------------------------------------------------------------------\n",
    "\n",
    "# Scripts to generate all the basic plots \n",
    "import numpy as np\n",
    "import matplotlib as mpl\n",
    "import matplotlib.pyplot as plt\n",
    "fig = plt.figure(figsize=(10,0.5))\n",
    "\n",
    "ax = fig.add_axes([0,0,1,1], frameon=False,\n",
    "                  xticks=[], yticks=[],  xlim=[0,1], ylim=[-.5,1.5])\n",
    "\n",
    "epsilon=1e-12\n",
    "plt.plot([0,1], [0,0], \"black\", clip_on=False, lw=8,\n",
    "         ls=(.5,(epsilon, 1)), dash_capstyle=\"round\")\n",
    "plt.plot([0,1], [1,1], \"black\", clip_on=False, lw=8,\n",
    "         ls=(-.5,(epsilon, 2)), dash_capstyle=\"round\")\n",
    "# plt.savefig(\"../figures/tip-dotted.pdf\")\n",
    "plt.show()"
   ]
  },
  {
   "cell_type": "code",
   "execution_count": null,
   "metadata": {},
   "outputs": [],
   "source": []
  }
 ],
 "metadata": {
  "kernelspec": {
   "display_name": "Python 3",
   "language": "python",
   "name": "python3"
  },
  "language_info": {
   "codemirror_mode": {
    "name": "ipython",
    "version": 3
   },
   "file_extension": ".py",
   "mimetype": "text/x-python",
   "name": "python",
   "nbconvert_exporter": "python",
   "pygments_lexer": "ipython3",
   "version": "3.6.5"
  }
 },
 "nbformat": 4,
 "nbformat_minor": 2
}
