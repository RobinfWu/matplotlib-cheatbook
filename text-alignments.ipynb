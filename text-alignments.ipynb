{
 "cells": [
  {
   "cell_type": "markdown",
   "metadata": {},
   "source": [
    "# Tick Alignments"
   ]
  },
  {
   "cell_type": "code",
   "execution_count": 1,
   "metadata": {},
   "outputs": [
    {
     "data": {
      "image/png": "[encoded data removed]",
      "text/plain": [
       "<Figure size 425x150 with 1 Axes>"
      ]
     },
     "metadata": {},
     "output_type": "display_data"
    }
   ],
   "source": [
    "# -----------------------------------------------------------------------------\n",
    "# Matplotlib cheat book\n",
    "# Released under the BSD License\n",
    "# -----------------------------------------------------------------------------\n",
    "import numpy as np\n",
    "import matplotlib.pyplot as plt\n",
    "\n",
    "dpi = 100\n",
    "fig = plt.figure(figsize=(4.25, 1.5), dpi=dpi)\n",
    "ax = fig.add_axes([0,0,1,1], frameon=False,\n",
    "                  xlim=(0,4.25), ylim=(0,1.5), xticks=[], yticks=[])\n",
    "\n",
    "fontsize = 48\n",
    "renderer = fig.canvas.get_renderer()\n",
    "horizontalalignment = \"left\"\n",
    "verticalalignment = \"center\"\n",
    "position = (0.25, 1.5/2)\n",
    "color = \"0.25\"\n",
    "\n",
    "# Compute vertical and horizontal alignment offsets\n",
    "text = ax.text(0, 0, \"Matplotlib\", fontsize=fontsize)\n",
    "yoffset = {}\n",
    "for alignment in [\"top\", \"center\", \"baseline\", \"bottom\"]:\n",
    "    text.set_verticalalignment(alignment)\n",
    "    y = text.get_window_extent(renderer).y0/dpi\n",
    "    yoffset[alignment] = y\n",
    "\n",
    "xoffset = {}\n",
    "for alignment in [\"left\", \"center\", \"right\"]:\n",
    "    text.set_horizontalalignment(alignment)\n",
    "    x = text.get_window_extent(renderer).x0/dpi\n",
    "    xoffset[alignment] = x\n",
    "\n",
    "# Actual positioning of the text\n",
    "text.set_horizontalalignment(horizontalalignment)\n",
    "text.set_verticalalignment(verticalalignment)\n",
    "text.set_position(position)\n",
    "\n",
    "\n",
    "for name,y in yoffset.items():\n",
    "    y = position[1] - y + yoffset[verticalalignment]\n",
    "    plt.plot([0.1, 3.75], [y, y], linewidth=0.5, color=color)\n",
    "    plt.text(3.75, y, \" \"+name, color=color,\n",
    "             ha=\"left\", va=\"center\", size=\"x-small\")\n",
    "\n",
    "for name,x in xoffset.items():\n",
    "    x = position[0] - x + xoffset[horizontalalignment]\n",
    "    plt.plot([x,x], [0.25, 1.25], linewidth=0.5, color=color)\n",
    "    plt.text(x, 0.24, name, color = color,\n",
    "             ha=\"center\", va=\"top\", size=\"x-small\")\n",
    "\n",
    "P = []\n",
    "for x in xoffset.values():\n",
    "    x = position[0] - x + xoffset[horizontalalignment]\n",
    "    for y in yoffset.values():\n",
    "        y = position[1] - y + yoffset[verticalalignment]\n",
    "        P.append((x,y))\n",
    "P = np.array(P)\n",
    "\n",
    "ax.scatter(P[:,0], P[:,1], s=10, zorder=10,\n",
    "           facecolor=\"white\", edgecolor=color, linewidth=0.75)\n",
    "\n",
    "epsilon = 0.05\n",
    "plt.text(P[3,0]+epsilon, P[3,1]-epsilon, \"(0,0)\",\n",
    "         color=color, ha=\"left\", va=\"top\", size=\"x-small\")\n",
    "plt.text(P[8,0]-epsilon, P[8,1]+epsilon, \"(1,1)\",\n",
    "         color=color, ha=\"right\", va=\"bottom\", size=\"x-small\")\n",
    "\n",
    "#plt.savefig(\"../figures/text-alignments.pdf\")\n",
    "plt.show()"
   ]
  },
  {
   "cell_type": "code",
   "execution_count": null,
   "metadata": {},
   "outputs": [],
   "source": []
  }
 ],
 "metadata": {
  "kernelspec": {
   "display_name": "Python 3",
   "language": "python",
   "name": "python3"
  },
  "language_info": {
   "codemirror_mode": {
    "name": "ipython",
    "version": 3
   },
   "file_extension": ".py",
   "mimetype": "text/x-python",
   "name": "python",
   "nbconvert_exporter": "python",
   "pygments_lexer": "ipython3",
   "version": "3.6.5"
  }
 },
 "nbformat": 4,
 "nbformat_minor": 2
}
