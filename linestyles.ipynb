{
 "cells": [
  {
   "cell_type": "markdown",
   "metadata": {
    "colab_type": "text",
    "id": "mw2VBrBcgvGa"
   },
   "source": [
    "# Linestyles"
   ]
  },
  {
   "cell_type": "code",
   "execution_count": 1,
   "metadata": {},
   "outputs": [],
   "source": [
    "# -----------------------------------------------------------------------------\n",
    "# Matplolib cheat book\n",
    "# Released under the BSD License\n",
    "# -----------------------------------------------------------------------------\n",
    "import numpy as np\n",
    "import matplotlib.pyplot as plt\n",
    "%matplotlib inline"
   ]
  },
  {
   "cell_type": "code",
   "execution_count": 2,
   "metadata": {
    "colab": {},
    "colab_type": "code",
    "id": "PUNO2E6SeURH"
   },
   "outputs": [
    {
     "data": {
      "image/png": "[encoded data removed]",
      "text/plain": [
       "<Figure size 918x237.6 with 1 Axes>"
      ]
     },
     "metadata": {},
     "output_type": "display_data"
    }
   ],
   "source": [
    "fig = plt.figure(figsize=(12.75,6*.55))\n",
    "ax = fig.add_axes([0,0,1,1], xlim=[0.75,10.25], ylim=[0.5,2.5], frameon=False,\n",
    "                      xticks=[], yticks=[]) \n",
    "y = 2\n",
    "\n",
    "def split(n_segment):\n",
    "    width = 9\n",
    "    segment_width = 0.75*(width/n_segment)\n",
    "    segment_pad = (width - n_segment*segment_width)/(n_segment-1)\n",
    "    X0 = 1+np.arange(n_segment)*(segment_width+segment_pad)\n",
    "    X1 = X0 + segment_width\n",
    "    return X0, X1\n",
    "\n",
    "\n",
    "# Line style\n",
    "# ----------------------------------------------------------------------------\n",
    "X0, X1 = split(5)\n",
    "styles = \"-\", \":\", \"--\", \"-.\", (0,(0.01,2))\n",
    "\n",
    "for x0,x1,style in zip(X0,X1,styles):\n",
    "    ax.plot([x0,x1],[y,y], color=\"C1\", linestyle=style,\n",
    "            solid_capstyle=\"round\", dash_capstyle=\"round\", linewidth=3)\n",
    "    if isinstance(style,str): text = '\"%s\"' % style\n",
    "    else:                      text = '%s' % str(style)\n",
    "    text = text.replace(' ','')\n",
    "    ax.text((x0+x1)/2, y-0.2, text,\n",
    "            size=16, ha=\"center\", va=\"top\", family=\"DejaVu Sans\")\n",
    "ax.text(X0[0]-0.25, y+0.2, \"linestyle or ls\", family = \"DejaVu Sans\",\n",
    "        size=20, ha=\"left\", va=\"baseline\")\n",
    "y -= 1 \n",
    "\n",
    "# Dash capstyle\n",
    "# ----------------------------------------------------------------------------\n",
    "X0, X1 = split(3)\n",
    "styles = \"butt\", \"round\", \"projecting\"\n",
    "for x0,x1,style in zip(X0,X1,styles):\n",
    "    ax.plot([x0,x1],[y,y], color=\"C1\", dash_capstyle=\"projecting\",\n",
    "            linewidth=7, linestyle=\"--\", alpha=.25)\n",
    "    ax.plot([x0,x1],[y,y], color=\"C1\", linewidth=7,\n",
    "            linestyle=\"--\", dash_capstyle=style)\n",
    "    ax.text((x0+x1)/2, y-0.2, '\"%s\"' % style, family = \"DejaVu Sans\",\n",
    "            size=16, ha=\"center\", va=\"top\")\n",
    "ax.text(X0[0]-0.25, y+0.2, \"capstyle or dash_capstyle\", family = \"DejaVu Sans\",\n",
    "        size=20, ha=\"left\", va=\"baseline\")\n",
    "\n",
    "\n",
    "# plt.savefig(\"../figures/linestyles.pdf\", dpi=200)\n",
    "plt.show()"
   ]
  },
  {
   "cell_type": "code",
   "execution_count": null,
   "metadata": {},
   "outputs": [],
   "source": []
  }
 ],
 "metadata": {
  "coursera": {
   "course_slug": "introduction-tensorflow",
   "graded_item_id": "jRjw8",
   "launcher_item_id": "YoQKl"
  },
  "kernelspec": {
   "display_name": "Python 3",
   "language": "python",
   "name": "python3"
  },
  "language_info": {
   "codemirror_mode": {
    "name": "ipython",
    "version": 3
   },
   "file_extension": ".py",
   "mimetype": "text/x-python",
   "name": "python",
   "nbconvert_exporter": "python",
   "pygments_lexer": "ipython3",
   "version": "3.6.5"
  }
 },
 "nbformat": 4,
 "nbformat_minor": 2
}
