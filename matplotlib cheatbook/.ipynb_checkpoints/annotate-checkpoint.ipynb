{
 "cells": [
  {
   "cell_type": "markdown",
   "metadata": {},
   "source": [
    "# Annotate"
   ]
  },
  {
   "cell_type": "code",
   "execution_count": 1,
   "metadata": {},
   "outputs": [],
   "source": [
    "# -----------------------------------------------------------------------------\n",
    "# Matplotlib cheat sheet\n",
    "# Released under the BSD License\n",
    "# -----------------------------------------------------------------------------\n",
    "import numpy as np\n",
    "import matplotlib as mpl\n",
    "import matplotlib.pyplot as plt"
   ]
  },
  {
   "cell_type": "code",
   "execution_count": 2,
   "metadata": {},
   "outputs": [
    {
     "data": {
      "image/png": "[encoded data removed]",
      "text/plain": [
       "<Figure size 864x144 with 1 Axes>"
      ]
     },
     "metadata": {},
     "output_type": "display_data"
    }
   ],
   "source": [
    "fig = plt.figure(figsize=(12,2))\n",
    "#ax = plt.subplot(111, frameon=False, aspect=.1)\n",
    "# b = 0.0\n",
    "ax = fig.add_axes([0,0,1,1], frameon=False, aspect=1)\n",
    "\n",
    "\n",
    "\n",
    "plt.scatter([5.5],[0.75], s=100, c=\"k\")\n",
    "plt.xlim(0,6), plt.ylim(0,1)\n",
    "plt.xticks([]), plt.yticks([])\n",
    "\n",
    "plt.annotate(\"Annotation\", (5.5,.75), (0.1,.75), size=24, va=\"center\",\n",
    "             arrowprops=dict(facecolor='black', shrink=0.05))\n",
    "\n",
    "plt.text( 5.5, 0.6, \"xy\\nycoords\", size=16, va=\"top\", ha=\"center\", color=\".5\")\n",
    "plt.text( .75, 0.6, \"xytext\\ntextcoords\", size=16, va=\"top\", ha=\"center\", color=\".5\")\n",
    "\n",
    "# plt.savefig(\"../figures/annotate.pdf\")\n",
    "plt.show()"
   ]
  },
  {
   "cell_type": "code",
   "execution_count": null,
   "metadata": {},
   "outputs": [],
   "source": []
  }
 ],
 "metadata": {
  "kernelspec": {
   "display_name": "Python 3",
   "language": "python",
   "name": "python3"
  },
  "language_info": {
   "codemirror_mode": {
    "name": "ipython",
    "version": 3
   },
   "file_extension": ".py",
   "mimetype": "text/x-python",
   "name": "python",
   "nbconvert_exporter": "python",
   "pygments_lexer": "ipython3",
   "version": "3.6.5"
  }
 },
 "nbformat": 4,
 "nbformat_minor": 2
}
