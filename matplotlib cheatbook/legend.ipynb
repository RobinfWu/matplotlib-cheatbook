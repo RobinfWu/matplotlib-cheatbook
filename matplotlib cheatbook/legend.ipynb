{
 "cells": [
  {
   "cell_type": "markdown",
   "metadata": {},
   "source": [
    "# Legend"
   ]
  },
  {
   "cell_type": "code",
   "execution_count": 1,
   "metadata": {},
   "outputs": [
    {
     "data": {
      "image/png": "[encoded data removed]",
      "text/plain": [
       "<Figure size 576x576 with 1 Axes>"
      ]
     },
     "metadata": {},
     "output_type": "display_data"
    }
   ],
   "source": [
    "# -----------------------------------------------------------------------------\n",
    "# Matplotlib cheat sheet\n",
    "# Released under the BSD License\n",
    "# -----------------------------------------------------------------------------\n",
    "import numpy as np\n",
    "import matplotlib as mpl\n",
    "import matplotlib.pyplot as plt\n",
    "\n",
    "\n",
    "fig = plt.figure(figsize=(8,8))\n",
    "ax = fig.add_axes([0.15,0.15,.7,.7], frameon=True, aspect=1,\n",
    "                  xticks=[], yticks=[])\n",
    "\n",
    "def text(x, y, _text):\n",
    "    color= \"C1\"\n",
    "    if not 0 < x < 1 or not 0 < y < 1:  color = \"C0\"\n",
    "    size = 0.15\n",
    "    ax.text(x, y, _text, color=\"white\", #bbox={\"color\": \"C1\"},\n",
    "            size=\"xx-large\", weight=\"bold\", ha=\"center\", va=\"center\")\n",
    "    rect = plt.Rectangle((x-size/2, y-size/2), size, size, facecolor=color,\n",
    "                         zorder=-10, clip_on=False)\n",
    "    ax.add_patch(rect)\n",
    "\n",
    "def point(x, y):\n",
    "    ax.scatter([x], [y], facecolor=\"C0\", edgecolor=\"white\",\n",
    "               zorder=10, clip_on=False)\n",
    "\n",
    "d = .1\n",
    "e = .15/2\n",
    "\n",
    "text(  d,   d, \"1\"), text( 0.5,   d, \"2\"), text(1-d,   d, \"3\")\n",
    "text(  d, 0.5, \"4\"), text( 0.5, 0.5, \"5\"), text(1-d, 0.5, \"6\")\n",
    "text(  d, 1-d, \"7\"), text( 0.5, 1-d, \"8\"), text(1-d, 1-d, \"9\")\n",
    "\n",
    "text( -d, 1-d, \"A\"), text( -d, 0.5, \"B\"), text(  -d,   d, \"C\")\n",
    "point(-d+e, 1-d+e), point(-d+e, 0.5), point(-d+e, d-e),\n",
    "\n",
    "text(  d,  -d, \"D\"), text(0.5,  -d, \"E\"), text( 1-d,  -d, \"F\")\n",
    "point(d-e, -d+e), point(0.5, -d+e), point(1-d+e, -d+e),\n",
    "\n",
    "text(1+d,   d, \"G\"), text(1+d, 0.5, \"H\"), text( 1+d, 1-d, \"I\")\n",
    "point(1+d-e, d-e), point(1+d-e, .5), point(1+d-e, 1-d+e),\n",
    "\n",
    "text(1-d, 1+d, \"J\"), text(0.5, 1+d, \"K\"), text(   d, 1+d, \"L\")\n",
    "point(1-d+e, 1+d-e), point(0.5, 1+d-e), point(d-e, 1+d-e),\n",
    "\n",
    "plt.xlim(0,1), plt.ylim(0,1)\n",
    "\n",
    "# plt.savefig(\"../figures/legend-placement.pdf\")\n",
    "plt.show()"
   ]
  },
  {
   "cell_type": "code",
   "execution_count": null,
   "metadata": {},
   "outputs": [],
   "source": []
  }
 ],
 "metadata": {
  "kernelspec": {
   "display_name": "Python 3",
   "language": "python",
   "name": "python3"
  },
  "language_info": {
   "codemirror_mode": {
    "name": "ipython",
    "version": 3
   },
   "file_extension": ".py",
   "mimetype": "text/x-python",
   "name": "python",
   "nbconvert_exporter": "python",
   "pygments_lexer": "ipython3",
   "version": "3.6.5"
  }
 },
 "nbformat": 4,
 "nbformat_minor": 2
}
