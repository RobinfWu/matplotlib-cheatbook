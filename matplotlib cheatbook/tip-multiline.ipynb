{
 "cells": [
  {
   "cell_type": "markdown",
   "metadata": {},
   "source": [
    "# Tip Multiline"
   ]
  },
  {
   "cell_type": "code",
   "execution_count": 1,
   "metadata": {},
   "outputs": [
    {
     "data": {
      "image/png": "[encoded data removed]",
      "text/plain": [
       "<Figure size 864x144 with 1 Axes>"
      ]
     },
     "metadata": {},
     "output_type": "display_data"
    }
   ],
   "source": [
    "# ----------------------------------------------------------------------------\n",
    "# Author:  Nicolas P. Rougier\n",
    "# License: BSD\n",
    "# ----------------------------------------------------------------------------\n",
    "import numpy as np\n",
    "import matplotlib as mpl\n",
    "import matplotlib.pyplot as plt\n",
    "mpl.rcParams['axes.linewidth'] = 1.5\n",
    "\n",
    "fig = plt.figure(figsize=(12,2))\n",
    "dx,dy = 0.0025, 0.01\n",
    "ax = fig.add_axes([dx, dy, 1-2*dx, 1-2*dy], frameon=False)\n",
    "X,Y = [], []\n",
    "for x in np.linspace(0.01, 10*np.pi-0.01, 100):\n",
    "    X.extend([x, x,None])\n",
    "    Y.extend([0, np.sin(x), None])\n",
    "# print(X[:10], Y[:10])\n",
    "plt.plot(X, Y, \"black\")\n",
    "plt.xticks([]), plt.yticks([])\n",
    "plt.xlim(-0.25, 10*np.pi+.25)\n",
    "plt.ylim(-1.5, 1.5)\n",
    "# plt.tight_layout()\n",
    "# plt.savefig(\"../figures/tip-multiline.pdf\", dpi=100)\n",
    "plt.show()"
   ]
  },
  {
   "cell_type": "code",
   "execution_count": null,
   "metadata": {},
   "outputs": [],
   "source": []
  }
 ],
 "metadata": {
  "kernelspec": {
   "display_name": "Python 3",
   "language": "python",
   "name": "python3"
  },
  "language_info": {
   "codemirror_mode": {
    "name": "ipython",
    "version": 3
   },
   "file_extension": ".py",
   "mimetype": "text/x-python",
   "name": "python",
   "nbconvert_exporter": "python",
   "pygments_lexer": "ipython3",
   "version": "3.6.5"
  }
 },
 "nbformat": 4,
 "nbformat_minor": 2
}
