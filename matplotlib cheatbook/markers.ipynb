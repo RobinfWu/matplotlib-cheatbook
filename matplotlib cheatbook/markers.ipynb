{
 "cells": [
  {
   "cell_type": "markdown",
   "metadata": {},
   "source": [
    "# Markers"
   ]
  },
  {
   "cell_type": "code",
   "execution_count": 1,
   "metadata": {},
   "outputs": [],
   "source": [
    "# -----------------------------------------------------------------------------\n",
    "# Matplotlib cheat sheet\n",
    "# Released under the BSD License\n",
    "# -----------------------------------------------------------------------------\n",
    "import numpy as np\n",
    "import matplotlib.pyplot as plt"
   ]
  },
  {
   "cell_type": "code",
   "execution_count": 2,
   "metadata": {},
   "outputs": [
    {
     "data": {
      "image/png": "[encoded data removed]",
      "text/plain": [
       "<Figure size 756x324 with 1 Axes>"
      ]
     },
     "metadata": {},
     "output_type": "display_data"
    }
   ],
   "source": [
    "# Markers\n",
    "# -----------------------------------------------------------------------------\n",
    "fig = plt.figure(figsize=(10.5,4.5))\n",
    "ax = fig.add_axes([0,0,1,1], frameon=False,\n",
    "                  xlim=[0.5,10.5], ylim=[0.0,4.35], xticks=[], yticks=[])\n",
    "X = np.linspace(1,10,12)\n",
    "Y = np.arange(1,4)\n",
    "X, Y = np.meshgrid(X,Y)\n",
    "X ,Y = X.ravel(), Y.ravel()\n",
    "\n",
    "plt.scatter(X, 1+Y, s=256, marker=\"s\", fc=\"C1\", ec=\"none\", alpha=.25)\n",
    "markers = [\n",
    "    \"$♠$\", \"$♣$\", \"$♥$\",\"$♦$\", \"$→$\",\"$←$\",\"$↑$\",\"$↓$\", \"$◐$\",\"$◑$\",\"$◒$\",\"$◓$\",\n",
    "    \"1\", \"2\", \"3\", \"4\", \"+\", \"x\", \"|\", \"_\", 4, 5, 6, 7,\n",
    "    \".\", \"o\", \"s\", \"P\", \"X\", \"*\", \"p\", \"D\", \"<\", \">\", \"^\", \"v\", ] \n",
    "for x,y,marker in zip(X,Y,markers):\n",
    "    if   y == 3: fc = \"white\"\n",
    "    elif y == 2: fc = \"None\"\n",
    "    else:        fc = \"C1\"\n",
    "    plt.scatter(x, 1+y, s=100, marker=marker, fc=fc, ec=\"C1\", lw=0.5)\n",
    "\n",
    "    if y == 1: marker = \"\\$%s\\$\" % marker\n",
    "    if isinstance(marker,str): text = \"'%s'\" % marker\n",
    "    else:                      text = '%s' % marker\n",
    "    plt.text(x, 1+y-0.4, text,\n",
    "              size=\"large\", ha=\"center\", va=\"top\", family=\"Monospace\")\n",
    "    \n",
    "    \n",
    "# Spacing\n",
    "n_segment = 4\n",
    "width = 9\n",
    "segment_width = 0.75*(width/n_segment)\n",
    "segment_pad = (width - n_segment*segment_width)/(n_segment-1)\n",
    "X0 =  1+np.arange(n_segment)*(segment_width+segment_pad)\n",
    "marks = [ 10, [0,-1], (25, 5), [0,25,-1] ]\n",
    "y = .6\n",
    "for x0, mark in zip(X0,marks):\n",
    "    X = np.linspace(x0, x0+segment_width, 50)\n",
    "    Y = y*np.ones(len(X))    \n",
    "    ax.plot(X, Y, linewidth=1, color=\"black\",\n",
    "            marker=\".\", mfc=\"white\", mec=\"black\", mew=\"1\", markevery=mark)\n",
    "    ax.text((X[0]+X[-1])/2, y-0.2, '%s' % str(mark),\n",
    "            size=\"large\", ha=\"center\", va=\"top\")\n",
    "\n",
    "plt.text(.7, 1, \"markevery\",\n",
    "         size=\"large\", ha=\"left\", va=\"center\", family=\"DejaVu Sans\")\n",
    "\n",
    "plt.show()"
   ]
  },
  {
   "cell_type": "code",
   "execution_count": null,
   "metadata": {},
   "outputs": [],
   "source": []
  }
 ],
 "metadata": {
  "kernelspec": {
   "display_name": "Python 3",
   "language": "python",
   "name": "python3"
  },
  "language_info": {
   "codemirror_mode": {
    "name": "ipython",
    "version": 3
   },
   "file_extension": ".py",
   "mimetype": "text/x-python",
   "name": "python",
   "nbconvert_exporter": "python",
   "pygments_lexer": "ipython3",
   "version": "3.6.5"
  }
 },
 "nbformat": 4,
 "nbformat_minor": 2
}
